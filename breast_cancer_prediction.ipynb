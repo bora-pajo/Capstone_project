{
 "cells": [
  {
   "cell_type": "markdown",
   "metadata": {},
   "source": [
    "### Domain Background:\n",
    "\n",
    "According to the Centers for Disease Control and Prevention (CDC) breast cancer is the most common type of cancer for women regardless of race and ethnicity (CDC, 2016). Around 220,000 women are diagnosed with breast cancer each year in the United States (CDC, 2016). Although we may not be aware of all the factors contributing in developing breast cancer, certain attributes such as family history, age, obesity, alcohol and tobacco use have been identified from research studies on this topic (DeSantis, Ma, Bryan, & Jemal, 2014). \n"
   ]
  },
  {
   "cell_type": "markdown",
   "metadata": {},
   "source": [
    "#### Problem Statement\n",
    "\n",
    "This project focuses in investigating the probability of predicting the type of breast cancer (malignant or benign) from the given characteristics of breast mass computed from digitized images.  This project will examine the data available and attempt to predict the possibility that a breast cancer diagnosis is malignant or benign based on the attributes collected from the breast mass. Various classifiers can be used to solve this problem, k-nearest, logistic regression, SVM, QDA, and others. A comparison of classifiers may be needed. \n"
   ]
  },
  {
   "cell_type": "code",
   "execution_count": 1,
   "metadata": {
    "collapsed": false
   },
   "outputs": [
    {
     "name": "stderr",
     "output_type": "stream",
     "text": [
      "//anaconda/lib/python2.7/site-packages/sklearn/cross_validation.py:44: DeprecationWarning: This module was deprecated in version 0.18 in favor of the model_selection module into which all the refactored classes and functions are moved. Also note that the interface of the new CV iterators are different from that of this module. This module will be removed in 0.20.\n",
      "  \"This module will be removed in 0.20.\", DeprecationWarning)\n",
      "//anaconda/lib/python2.7/site-packages/sklearn/grid_search.py:43: DeprecationWarning: This module was deprecated in version 0.18 in favor of the model_selection module into which all the refactored classes and functions are moved. This module will be removed in 0.20.\n",
      "  DeprecationWarning)\n"
     ]
    }
   ],
   "source": [
    "#The libraries used for this project are:\n",
    "#First import all the libraries needed\n",
    "\n",
    "import numpy as np #for linear algebra\n",
    "import pandas as pd #for chopping, processing\n",
    "import csv #for opening csv files\n",
    "%matplotlib inline \n",
    "import matplotlib.pyplot as plt #for plotting the graphs\n",
    "from sklearn.linear_model import LogisticRegression #for logistic regression\n",
    "from sklearn.pipeline import Pipeline #to assemble steps for cross validation\n",
    "from sklearn.preprocessing import PolynomialFeatures #for all the polynomial features\n",
    "from sklearn import svm #for Support Vector Machines\n",
    "from sklearn.neighbors import NearestNeighbors #for nearest neighbor classifier\n",
    "from sklearn import tree\n",
    "from sklearn.tree import DecisionTreeClassifier #for decision tree classifier\n",
    "from sklearn.naive_bayes import GaussianNB  #for naive bayes classifier\n",
    "from scipy import stats #for statistical info\n",
    "from sklearn.model_selection import train_test_split # to split the data in train and test\n",
    "from sklearn.cross_validation import train_test_split\n",
    "from sklearn.model_selection import KFold # for cross validation\n",
    "from sklearn.grid_search import GridSearchCV  # for tuning parameters\n",
    "from sklearn.neighbors import KNeighborsClassifier  #for k-neighbor classifier\n",
    "from sklearn import metrics  # for checking the accuracy \n",
    "from time import time\n",
    "# And all the different types of classifiers that will be used\n",
    "from sklearn.tree import DecisionTreeClassifier\n",
    "from sklearn.svm import SVC\n",
    "from sklearn.neighbors import KNeighborsClassifier\n",
    "from sklearn.naive_bayes import GaussianNB\n",
    "from sklearn.ensemble import RandomForestClassifier\n",
    "from sklearn.ensemble import AdaBoostClassifier\n",
    "from sklearn.discriminant_analysis import QuadraticDiscriminantAnalysis\n",
    "from sklearn.neural_network import MLPClassifier\n"
   ]
  },
  {
   "cell_type": "markdown",
   "metadata": {},
   "source": [
    "###### Dataset and Inputs\n",
    "\n",
    "The characteristics of the cell nuclei have been captured in the images and a classification methods which uses linear programming to construct a decision line. The dataset is published by Kaggle and taken from the University of California Irvine (UCI) machine learning repository.  The data is taken from the Breast Cancer Wisconsin Center. It includes ten (10) attributes taken from each cell nucleus as well as ID and the diagnosis (M=malignant, B=benign).  The dataset has 570 cases.  \n"
   ]
  },
  {
   "cell_type": "code",
   "execution_count": 2,
   "metadata": {
    "collapsed": true
   },
   "outputs": [],
   "source": [
    "#load data\n",
    "data = pd.read_csv(\"data.csv\")"
   ]
  },
  {
   "cell_type": "code",
   "execution_count": 3,
   "metadata": {
    "collapsed": false
   },
   "outputs": [
    {
     "data": {
      "text/plain": [
       "(569, 32)"
      ]
     },
     "execution_count": 3,
     "metadata": {},
     "output_type": "execute_result"
    }
   ],
   "source": [
    "#to know the number of cases and the number of variables\n",
    "data.shape"
   ]
  },
  {
   "cell_type": "code",
   "execution_count": 4,
   "metadata": {
    "collapsed": false
   },
   "outputs": [
    {
     "name": "stdout",
     "output_type": "stream",
     "text": [
      "There are 569 cases in this dataset\n",
      "There are 31 features in this dataset\n",
      "There are 212 cases diagnosed as malignant tumor\n",
      "There are 357 cases diagnosed as benign tumor\n",
      "The percentage of malignant cases is: 37.2583%\n"
     ]
    }
   ],
   "source": [
    "#Description of the dataset\n",
    "\n",
    "#how many cases are included in the dataset\n",
    "length = len(data)\n",
    "#how many features are in the dataset\n",
    "features = data.shape[1]-1\n",
    "\n",
    "# Number of malignant cases\n",
    "malignant = len(data[data['diagnosis']=='M'])\n",
    "\n",
    "#Number of benign cases\n",
    "benign = len(data[data['diagnosis']=='B'])\n",
    "\n",
    "#Rate of malignant tumors over all cases\n",
    "rate = (float(malignant)/(length))*100\n",
    "\n",
    "print \"There are \"+ str(len(data))+\" cases in this dataset\"\n",
    "print \"There are {}\".format(features)+\" features in this dataset\"\n",
    "print \"There are {}\".format(malignant)+\" cases diagnosed as malignant tumor\"\n",
    "print \"There are {}\".format(benign)+\" cases diagnosed as benign tumor\"\n",
    "print \"The percentage of malignant cases is: {:.4f}%\".format(rate)"
   ]
  },
  {
   "cell_type": "markdown",
   "metadata": {},
   "source": [
    "###### Descriptive Information of the Data\n",
    "\n",
    "The dataset includes 569 cases with 31 features for each case.  From these total cases, 212 are malignant tumor and 357 are benign.  The percentage rate of malignant cases is 37%. "
   ]
  },
  {
   "cell_type": "code",
   "execution_count": 5,
   "metadata": {
    "collapsed": false
   },
   "outputs": [
    {
     "data": {
      "text/html": [
       "<div>\n",
       "<table border=\"1\" class=\"dataframe\">\n",
       "  <thead>\n",
       "    <tr style=\"text-align: right;\">\n",
       "      <th></th>\n",
       "      <th>diagnosis</th>\n",
       "      <th>radius_mean</th>\n",
       "      <th>texture_mean</th>\n",
       "      <th>perimeter_mean</th>\n",
       "      <th>area_mean</th>\n",
       "      <th>smoothness_mean</th>\n",
       "      <th>compactness_mean</th>\n",
       "      <th>concavity_mean</th>\n",
       "      <th>concave points_mean</th>\n",
       "      <th>symmetry_mean</th>\n",
       "      <th>...</th>\n",
       "      <th>radius_worst</th>\n",
       "      <th>texture_worst</th>\n",
       "      <th>perimeter_worst</th>\n",
       "      <th>area_worst</th>\n",
       "      <th>smoothness_worst</th>\n",
       "      <th>compactness_worst</th>\n",
       "      <th>concavity_worst</th>\n",
       "      <th>concave points_worst</th>\n",
       "      <th>symmetry_worst</th>\n",
       "      <th>fractal_dimension_worst</th>\n",
       "    </tr>\n",
       "  </thead>\n",
       "  <tbody>\n",
       "    <tr>\n",
       "      <th>0</th>\n",
       "      <td>M</td>\n",
       "      <td>17.99</td>\n",
       "      <td>10.38</td>\n",
       "      <td>122.8</td>\n",
       "      <td>1001.0</td>\n",
       "      <td>0.1184</td>\n",
       "      <td>0.2776</td>\n",
       "      <td>0.3001</td>\n",
       "      <td>0.1471</td>\n",
       "      <td>0.2419</td>\n",
       "      <td>...</td>\n",
       "      <td>25.38</td>\n",
       "      <td>17.33</td>\n",
       "      <td>184.6</td>\n",
       "      <td>2019.0</td>\n",
       "      <td>0.1622</td>\n",
       "      <td>0.6656</td>\n",
       "      <td>0.7119</td>\n",
       "      <td>0.2654</td>\n",
       "      <td>0.4601</td>\n",
       "      <td>0.1189</td>\n",
       "    </tr>\n",
       "  </tbody>\n",
       "</table>\n",
       "<p>1 rows × 31 columns</p>\n",
       "</div>"
      ],
      "text/plain": [
       "  diagnosis  radius_mean  texture_mean  perimeter_mean  area_mean  \\\n",
       "0         M        17.99         10.38           122.8     1001.0   \n",
       "\n",
       "   smoothness_mean  compactness_mean  concavity_mean  concave points_mean  \\\n",
       "0           0.1184            0.2776          0.3001               0.1471   \n",
       "\n",
       "   symmetry_mean           ...             radius_worst  texture_worst  \\\n",
       "0         0.2419           ...                    25.38          17.33   \n",
       "\n",
       "   perimeter_worst  area_worst  smoothness_worst  compactness_worst  \\\n",
       "0            184.6      2019.0            0.1622             0.6656   \n",
       "\n",
       "   concavity_worst  concave points_worst  symmetry_worst  \\\n",
       "0           0.7119                0.2654          0.4601   \n",
       "\n",
       "   fractal_dimension_worst  \n",
       "0                   0.1189  \n",
       "\n",
       "[1 rows x 31 columns]"
      ]
     },
     "execution_count": 5,
     "metadata": {},
     "output_type": "execute_result"
    }
   ],
   "source": [
    "#drop ID because we do not need the ID number as shown above\n",
    "data.drop('id',axis=1,inplace=True)\n",
    "#check that dropped\n",
    "data.head(1)"
   ]
  },
  {
   "cell_type": "code",
   "execution_count": 6,
   "metadata": {
    "collapsed": false
   },
   "outputs": [
    {
     "data": {
      "text/html": [
       "<div>\n",
       "<table border=\"1\" class=\"dataframe\">\n",
       "  <thead>\n",
       "    <tr style=\"text-align: right;\">\n",
       "      <th></th>\n",
       "      <th>radius_mean</th>\n",
       "      <th>texture_mean</th>\n",
       "      <th>perimeter_mean</th>\n",
       "      <th>area_mean</th>\n",
       "      <th>smoothness_mean</th>\n",
       "      <th>compactness_mean</th>\n",
       "      <th>concavity_mean</th>\n",
       "      <th>concave points_mean</th>\n",
       "      <th>symmetry_mean</th>\n",
       "      <th>fractal_dimension_mean</th>\n",
       "      <th>...</th>\n",
       "      <th>radius_worst</th>\n",
       "      <th>texture_worst</th>\n",
       "      <th>perimeter_worst</th>\n",
       "      <th>area_worst</th>\n",
       "      <th>smoothness_worst</th>\n",
       "      <th>compactness_worst</th>\n",
       "      <th>concavity_worst</th>\n",
       "      <th>concave points_worst</th>\n",
       "      <th>symmetry_worst</th>\n",
       "      <th>fractal_dimension_worst</th>\n",
       "    </tr>\n",
       "  </thead>\n",
       "  <tbody>\n",
       "    <tr>\n",
       "      <th>count</th>\n",
       "      <td>569.000000</td>\n",
       "      <td>569.000000</td>\n",
       "      <td>569.000000</td>\n",
       "      <td>569.000000</td>\n",
       "      <td>569.000000</td>\n",
       "      <td>569.000000</td>\n",
       "      <td>569.000000</td>\n",
       "      <td>569.000000</td>\n",
       "      <td>569.000000</td>\n",
       "      <td>569.000000</td>\n",
       "      <td>...</td>\n",
       "      <td>569.000000</td>\n",
       "      <td>569.000000</td>\n",
       "      <td>569.000000</td>\n",
       "      <td>569.000000</td>\n",
       "      <td>569.000000</td>\n",
       "      <td>569.000000</td>\n",
       "      <td>569.000000</td>\n",
       "      <td>569.000000</td>\n",
       "      <td>569.000000</td>\n",
       "      <td>569.000000</td>\n",
       "    </tr>\n",
       "    <tr>\n",
       "      <th>mean</th>\n",
       "      <td>14.127292</td>\n",
       "      <td>19.289649</td>\n",
       "      <td>91.969033</td>\n",
       "      <td>654.889104</td>\n",
       "      <td>0.096360</td>\n",
       "      <td>0.104341</td>\n",
       "      <td>0.088799</td>\n",
       "      <td>0.048919</td>\n",
       "      <td>0.181162</td>\n",
       "      <td>0.062798</td>\n",
       "      <td>...</td>\n",
       "      <td>16.269190</td>\n",
       "      <td>25.677223</td>\n",
       "      <td>107.261213</td>\n",
       "      <td>880.583128</td>\n",
       "      <td>0.132369</td>\n",
       "      <td>0.254265</td>\n",
       "      <td>0.272188</td>\n",
       "      <td>0.114606</td>\n",
       "      <td>0.290076</td>\n",
       "      <td>0.083946</td>\n",
       "    </tr>\n",
       "    <tr>\n",
       "      <th>std</th>\n",
       "      <td>3.524049</td>\n",
       "      <td>4.301036</td>\n",
       "      <td>24.298981</td>\n",
       "      <td>351.914129</td>\n",
       "      <td>0.014064</td>\n",
       "      <td>0.052813</td>\n",
       "      <td>0.079720</td>\n",
       "      <td>0.038803</td>\n",
       "      <td>0.027414</td>\n",
       "      <td>0.007060</td>\n",
       "      <td>...</td>\n",
       "      <td>4.833242</td>\n",
       "      <td>6.146258</td>\n",
       "      <td>33.602542</td>\n",
       "      <td>569.356993</td>\n",
       "      <td>0.022832</td>\n",
       "      <td>0.157336</td>\n",
       "      <td>0.208624</td>\n",
       "      <td>0.065732</td>\n",
       "      <td>0.061867</td>\n",
       "      <td>0.018061</td>\n",
       "    </tr>\n",
       "    <tr>\n",
       "      <th>min</th>\n",
       "      <td>6.981000</td>\n",
       "      <td>9.710000</td>\n",
       "      <td>43.790000</td>\n",
       "      <td>143.500000</td>\n",
       "      <td>0.052630</td>\n",
       "      <td>0.019380</td>\n",
       "      <td>0.000000</td>\n",
       "      <td>0.000000</td>\n",
       "      <td>0.106000</td>\n",
       "      <td>0.049960</td>\n",
       "      <td>...</td>\n",
       "      <td>7.930000</td>\n",
       "      <td>12.020000</td>\n",
       "      <td>50.410000</td>\n",
       "      <td>185.200000</td>\n",
       "      <td>0.071170</td>\n",
       "      <td>0.027290</td>\n",
       "      <td>0.000000</td>\n",
       "      <td>0.000000</td>\n",
       "      <td>0.156500</td>\n",
       "      <td>0.055040</td>\n",
       "    </tr>\n",
       "    <tr>\n",
       "      <th>25%</th>\n",
       "      <td>11.700000</td>\n",
       "      <td>16.170000</td>\n",
       "      <td>75.170000</td>\n",
       "      <td>420.300000</td>\n",
       "      <td>0.086370</td>\n",
       "      <td>0.064920</td>\n",
       "      <td>0.029560</td>\n",
       "      <td>0.020310</td>\n",
       "      <td>0.161900</td>\n",
       "      <td>0.057700</td>\n",
       "      <td>...</td>\n",
       "      <td>13.010000</td>\n",
       "      <td>21.080000</td>\n",
       "      <td>84.110000</td>\n",
       "      <td>515.300000</td>\n",
       "      <td>0.116600</td>\n",
       "      <td>0.147200</td>\n",
       "      <td>0.114500</td>\n",
       "      <td>0.064930</td>\n",
       "      <td>0.250400</td>\n",
       "      <td>0.071460</td>\n",
       "    </tr>\n",
       "    <tr>\n",
       "      <th>50%</th>\n",
       "      <td>13.370000</td>\n",
       "      <td>18.840000</td>\n",
       "      <td>86.240000</td>\n",
       "      <td>551.100000</td>\n",
       "      <td>0.095870</td>\n",
       "      <td>0.092630</td>\n",
       "      <td>0.061540</td>\n",
       "      <td>0.033500</td>\n",
       "      <td>0.179200</td>\n",
       "      <td>0.061540</td>\n",
       "      <td>...</td>\n",
       "      <td>14.970000</td>\n",
       "      <td>25.410000</td>\n",
       "      <td>97.660000</td>\n",
       "      <td>686.500000</td>\n",
       "      <td>0.131300</td>\n",
       "      <td>0.211900</td>\n",
       "      <td>0.226700</td>\n",
       "      <td>0.099930</td>\n",
       "      <td>0.282200</td>\n",
       "      <td>0.080040</td>\n",
       "    </tr>\n",
       "    <tr>\n",
       "      <th>75%</th>\n",
       "      <td>15.780000</td>\n",
       "      <td>21.800000</td>\n",
       "      <td>104.100000</td>\n",
       "      <td>782.700000</td>\n",
       "      <td>0.105300</td>\n",
       "      <td>0.130400</td>\n",
       "      <td>0.130700</td>\n",
       "      <td>0.074000</td>\n",
       "      <td>0.195700</td>\n",
       "      <td>0.066120</td>\n",
       "      <td>...</td>\n",
       "      <td>18.790000</td>\n",
       "      <td>29.720000</td>\n",
       "      <td>125.400000</td>\n",
       "      <td>1084.000000</td>\n",
       "      <td>0.146000</td>\n",
       "      <td>0.339100</td>\n",
       "      <td>0.382900</td>\n",
       "      <td>0.161400</td>\n",
       "      <td>0.317900</td>\n",
       "      <td>0.092080</td>\n",
       "    </tr>\n",
       "    <tr>\n",
       "      <th>max</th>\n",
       "      <td>28.110000</td>\n",
       "      <td>39.280000</td>\n",
       "      <td>188.500000</td>\n",
       "      <td>2501.000000</td>\n",
       "      <td>0.163400</td>\n",
       "      <td>0.345400</td>\n",
       "      <td>0.426800</td>\n",
       "      <td>0.201200</td>\n",
       "      <td>0.304000</td>\n",
       "      <td>0.097440</td>\n",
       "      <td>...</td>\n",
       "      <td>36.040000</td>\n",
       "      <td>49.540000</td>\n",
       "      <td>251.200000</td>\n",
       "      <td>4254.000000</td>\n",
       "      <td>0.222600</td>\n",
       "      <td>1.058000</td>\n",
       "      <td>1.252000</td>\n",
       "      <td>0.291000</td>\n",
       "      <td>0.663800</td>\n",
       "      <td>0.207500</td>\n",
       "    </tr>\n",
       "  </tbody>\n",
       "</table>\n",
       "<p>8 rows × 30 columns</p>\n",
       "</div>"
      ],
      "text/plain": [
       "       radius_mean  texture_mean  perimeter_mean    area_mean  \\\n",
       "count   569.000000    569.000000      569.000000   569.000000   \n",
       "mean     14.127292     19.289649       91.969033   654.889104   \n",
       "std       3.524049      4.301036       24.298981   351.914129   \n",
       "min       6.981000      9.710000       43.790000   143.500000   \n",
       "25%      11.700000     16.170000       75.170000   420.300000   \n",
       "50%      13.370000     18.840000       86.240000   551.100000   \n",
       "75%      15.780000     21.800000      104.100000   782.700000   \n",
       "max      28.110000     39.280000      188.500000  2501.000000   \n",
       "\n",
       "       smoothness_mean  compactness_mean  concavity_mean  concave points_mean  \\\n",
       "count       569.000000        569.000000      569.000000           569.000000   \n",
       "mean          0.096360          0.104341        0.088799             0.048919   \n",
       "std           0.014064          0.052813        0.079720             0.038803   \n",
       "min           0.052630          0.019380        0.000000             0.000000   \n",
       "25%           0.086370          0.064920        0.029560             0.020310   \n",
       "50%           0.095870          0.092630        0.061540             0.033500   \n",
       "75%           0.105300          0.130400        0.130700             0.074000   \n",
       "max           0.163400          0.345400        0.426800             0.201200   \n",
       "\n",
       "       symmetry_mean  fractal_dimension_mean           ...             \\\n",
       "count     569.000000              569.000000           ...              \n",
       "mean        0.181162                0.062798           ...              \n",
       "std         0.027414                0.007060           ...              \n",
       "min         0.106000                0.049960           ...              \n",
       "25%         0.161900                0.057700           ...              \n",
       "50%         0.179200                0.061540           ...              \n",
       "75%         0.195700                0.066120           ...              \n",
       "max         0.304000                0.097440           ...              \n",
       "\n",
       "       radius_worst  texture_worst  perimeter_worst   area_worst  \\\n",
       "count    569.000000     569.000000       569.000000   569.000000   \n",
       "mean      16.269190      25.677223       107.261213   880.583128   \n",
       "std        4.833242       6.146258        33.602542   569.356993   \n",
       "min        7.930000      12.020000        50.410000   185.200000   \n",
       "25%       13.010000      21.080000        84.110000   515.300000   \n",
       "50%       14.970000      25.410000        97.660000   686.500000   \n",
       "75%       18.790000      29.720000       125.400000  1084.000000   \n",
       "max       36.040000      49.540000       251.200000  4254.000000   \n",
       "\n",
       "       smoothness_worst  compactness_worst  concavity_worst  \\\n",
       "count        569.000000         569.000000       569.000000   \n",
       "mean           0.132369           0.254265         0.272188   \n",
       "std            0.022832           0.157336         0.208624   \n",
       "min            0.071170           0.027290         0.000000   \n",
       "25%            0.116600           0.147200         0.114500   \n",
       "50%            0.131300           0.211900         0.226700   \n",
       "75%            0.146000           0.339100         0.382900   \n",
       "max            0.222600           1.058000         1.252000   \n",
       "\n",
       "       concave points_worst  symmetry_worst  fractal_dimension_worst  \n",
       "count            569.000000      569.000000               569.000000  \n",
       "mean               0.114606        0.290076                 0.083946  \n",
       "std                0.065732        0.061867                 0.018061  \n",
       "min                0.000000        0.156500                 0.055040  \n",
       "25%                0.064930        0.250400                 0.071460  \n",
       "50%                0.099930        0.282200                 0.080040  \n",
       "75%                0.161400        0.317900                 0.092080  \n",
       "max                0.291000        0.663800                 0.207500  \n",
       "\n",
       "[8 rows x 30 columns]"
      ]
     },
     "execution_count": 6,
     "metadata": {},
     "output_type": "execute_result"
    }
   ],
   "source": [
    "#explore further the dataset\n",
    "data.describe()"
   ]
  },
  {
   "cell_type": "code",
   "execution_count": 7,
   "metadata": {
    "collapsed": false
   },
   "outputs": [
    {
     "name": "stdout",
     "output_type": "stream",
     "text": [
      "Minimum of radius mean is: 6.98 \n",
      "Maximum of radius mean is: 28.11 \n",
      "Average of radius mean is: 14.13 with a standard deviation of 3.52\n"
     ]
    }
   ],
   "source": [
    "#explore some of the attribute for best understanding\n",
    "#radius mean is the mean of distances from center to points on the perimeter of breast mass\n",
    "#so let's look at maximum, minimum, average, and standard deviation of radius mean\n",
    "min_radius = min(data['radius_mean'])\n",
    "max_radius = max(data['radius_mean'])\n",
    "average_radius = np.mean(data['radius_mean'])\n",
    "sd_radius = np.std(data['radius_mean'])\n",
    "\n",
    "print \"Minimum of radius mean is: {:,.2f} \".format(min_radius)\n",
    "print \"Maximum of radius mean is: {:,.2f} \".format(max_radius)\n",
    "print \"Average of radius mean is: {:,.2f} \".format(average_radius)+\"with a standard deviation of {:,.2f}\".format(sd_radius)\n"
   ]
  },
  {
   "cell_type": "code",
   "execution_count": 8,
   "metadata": {
    "collapsed": false
   },
   "outputs": [
    {
     "name": "stdout",
     "output_type": "stream",
     "text": [
      "Minimum of texture mean is: 9.71 \n",
      "Maximum of texture mean is: 39.28 \n",
      "Average of texture mean is: 19.29 with a standard deviation of 4.30\n"
     ]
    }
   ],
   "source": [
    "#texture mean is the standard deviation of gray scale value\n",
    "#so let's look at maximum, minimum, average, and standard deviation of texture mean\n",
    "min_texture = min(data['texture_mean'])\n",
    "max_texture = max(data['texture_mean'])\n",
    "average_texture = np.mean(data['texture_mean'])\n",
    "sd_texture = np.std(data['texture_mean'])\n",
    "\n",
    "print \"Minimum of texture mean is: {:,.2f} \".format(min_texture)\n",
    "print \"Maximum of texture mean is: {:,.2f} \".format(max_texture)\n",
    "print \"Average of texture mean is: {:,.2f} \".format(average_texture)+\"with a standard deviation of {:,.2f}\".format(sd_texture)\n"
   ]
  },
  {
   "cell_type": "code",
   "execution_count": 9,
   "metadata": {
    "collapsed": true
   },
   "outputs": [],
   "source": [
    "#to see how distribution is in regard to the diagnosis, we need to first split\n",
    "#the dataset into two groups\n",
    "malignant = data[data['diagnosis'] =='M']\n",
    "benign = data[data['diagnosis'] =='B']\n",
    "#also create a list of the first ten features\n",
    "features = list(data.columns[0:10])"
   ]
  },
  {
   "cell_type": "code",
   "execution_count": 13,
   "metadata": {
    "collapsed": false
   },
   "outputs": [
    {
     "data": {
      "text/html": [
       "<div>\n",
       "<table border=\"1\" class=\"dataframe\">\n",
       "  <thead>\n",
       "    <tr style=\"text-align: right;\">\n",
       "      <th></th>\n",
       "      <th>diagnosis</th>\n",
       "      <th>radius_mean</th>\n",
       "      <th>texture_mean</th>\n",
       "      <th>perimeter_mean</th>\n",
       "      <th>area_mean</th>\n",
       "      <th>smoothness_mean</th>\n",
       "      <th>compactness_mean</th>\n",
       "      <th>concavity_mean</th>\n",
       "      <th>concave points_mean</th>\n",
       "      <th>symmetry_mean</th>\n",
       "    </tr>\n",
       "  </thead>\n",
       "  <tbody>\n",
       "    <tr>\n",
       "      <th>0</th>\n",
       "      <td>M</td>\n",
       "      <td>17.99</td>\n",
       "      <td>10.38</td>\n",
       "      <td>122.8</td>\n",
       "      <td>1001.0</td>\n",
       "      <td>0.11840</td>\n",
       "      <td>0.27760</td>\n",
       "      <td>0.3001</td>\n",
       "      <td>0.14710</td>\n",
       "      <td>0.2419</td>\n",
       "    </tr>\n",
       "    <tr>\n",
       "      <th>1</th>\n",
       "      <td>M</td>\n",
       "      <td>20.57</td>\n",
       "      <td>17.77</td>\n",
       "      <td>132.9</td>\n",
       "      <td>1326.0</td>\n",
       "      <td>0.08474</td>\n",
       "      <td>0.07864</td>\n",
       "      <td>0.0869</td>\n",
       "      <td>0.07017</td>\n",
       "      <td>0.1812</td>\n",
       "    </tr>\n",
       "  </tbody>\n",
       "</table>\n",
       "</div>"
      ],
      "text/plain": [
       "  diagnosis  radius_mean  texture_mean  perimeter_mean  area_mean  \\\n",
       "0         M        17.99         10.38           122.8     1001.0   \n",
       "1         M        20.57         17.77           132.9     1326.0   \n",
       "\n",
       "   smoothness_mean  compactness_mean  concavity_mean  concave points_mean  \\\n",
       "0          0.11840           0.27760          0.3001              0.14710   \n",
       "1          0.08474           0.07864          0.0869              0.07017   \n",
       "\n",
       "   symmetry_mean  \n",
       "0         0.2419  \n",
       "1         0.1812  "
      ]
     },
     "execution_count": 13,
     "metadata": {},
     "output_type": "execute_result"
    }
   ],
   "source": [
    "#just to check that this works\n",
    "malignant[features].head(2)\n"
   ]
  },
  {
   "cell_type": "markdown",
   "metadata": {},
   "source": [
    "##### Solution Statement\n",
    "\n",
    "Now, that a clearer understanding exists on the dataset, I would create a test and training set. Then, I will create a classification/predicting model such as logistic regression, k-nearest, random forest, QDA, and SVM to see which has the highest accuracy. Once the model with highest accuracy appears, I can draw conclusions and interpretations. It may be needed to fine tune the model for best accuracy as well.  \n"
   ]
  },
  {
   "cell_type": "code",
   "execution_count": 16,
   "metadata": {
    "collapsed": false
   },
   "outputs": [
    {
     "name": "stdout",
     "output_type": "stream",
     "text": [
      "['radius_mean', 'texture_mean', 'perimeter_mean', 'area_mean', 'smoothness_mean', 'compactness_mean', 'concavity_mean', 'concave points_mean', 'symmetry_mean', 'fractal_dimension_mean', 'radius_se', 'texture_se', 'perimeter_se', 'area_se', 'smoothness_se', 'compactness_se', 'concavity_se', 'concave points_se', 'symmetry_se', 'fractal_dimension_se', 'radius_worst', 'texture_worst', 'perimeter_worst', 'area_worst', 'smoothness_worst', 'compactness_worst', 'concavity_worst', 'concave points_worst', 'symmetry_worst']\n"
     ]
    }
   ],
   "source": [
    "# Extract feature columns where everything but the diagnosis is included.\n",
    "# I am separating all the features that are helpful in determining the diagnosis\n",
    "features = list(data.columns[1:30])\n",
    "print features"
   ]
  },
  {
   "cell_type": "code",
   "execution_count": 17,
   "metadata": {
    "collapsed": false
   },
   "outputs": [
    {
     "name": "stdout",
     "output_type": "stream",
     "text": [
      "Index([u'diagnosis'], dtype='object')\n"
     ]
    }
   ],
   "source": [
    "#Our target is predicting the diagnosis in benign or malignant, so we need\n",
    "#to extract this one as the dependent variable - the variable we will predict\n",
    "target = data.columns[0:1]\n",
    "print target"
   ]
  },
  {
   "cell_type": "code",
   "execution_count": 18,
   "metadata": {
    "collapsed": true
   },
   "outputs": [],
   "source": [
    "#Now we need to separate the data into feature data and target data\n",
    "X = data[features] #our features that we will use to predict Y\n",
    "Y = data[target] #our dependent variable, the one we are trying to predict from X"
   ]
  },
  {
   "cell_type": "code",
   "execution_count": 19,
   "metadata": {
    "collapsed": false
   },
   "outputs": [
    {
     "data": {
      "text/plain": [
       "(569, 29)"
      ]
     },
     "execution_count": 19,
     "metadata": {},
     "output_type": "execute_result"
    }
   ],
   "source": [
    "# X should have 29 variables and 569 cases\n",
    "X.shape"
   ]
  },
  {
   "cell_type": "code",
   "execution_count": 20,
   "metadata": {
    "collapsed": false
   },
   "outputs": [
    {
     "data": {
      "text/plain": [
       "(569, 1)"
      ]
     },
     "execution_count": 20,
     "metadata": {},
     "output_type": "execute_result"
    }
   ],
   "source": [
    "# Y should have 1 variable - just the diagnosis and 569 cases\n",
    "Y.shape"
   ]
  },
  {
   "cell_type": "code",
   "execution_count": 21,
   "metadata": {
    "collapsed": false
   },
   "outputs": [
    {
     "name": "stdout",
     "output_type": "stream",
     "text": [
      "\n",
      "Feature values:\n",
      "   radius_mean  texture_mean  perimeter_mean  area_mean  smoothness_mean  \\\n",
      "0        17.99         10.38           122.8     1001.0           0.1184   \n",
      "\n",
      "   compactness_mean  concavity_mean  concave points_mean  symmetry_mean  \\\n",
      "0            0.2776          0.3001               0.1471         0.2419   \n",
      "\n",
      "   fractal_dimension_mean       ...        fractal_dimension_se  radius_worst  \\\n",
      "0                 0.07871       ...                    0.006193         25.38   \n",
      "\n",
      "   texture_worst  perimeter_worst  area_worst  smoothness_worst  \\\n",
      "0          17.33            184.6      2019.0            0.1622   \n",
      "\n",
      "   compactness_worst  concavity_worst  concave points_worst  symmetry_worst  \n",
      "0             0.6656           0.7119                0.2654          0.4601  \n",
      "\n",
      "[1 rows x 29 columns]\n",
      "\n",
      "Target values:\n",
      "  diagnosis\n",
      "0         M\n"
     ]
    }
   ],
   "source": [
    "# Show the feature information by printing the first row\n",
    "# Show the traget information by also printing the first row\n",
    "print \"\\nFeature values:\"\n",
    "print X.head(1)\n",
    "print \"\\nTarget values:\"\n",
    "print Y.head(1)"
   ]
  },
  {
   "cell_type": "code",
   "execution_count": 22,
   "metadata": {
    "collapsed": true
   },
   "outputs": [],
   "source": [
    "df=pd.DataFrame(data)"
   ]
  },
  {
   "cell_type": "code",
   "execution_count": 23,
   "metadata": {
    "collapsed": false
   },
   "outputs": [
    {
     "data": {
      "image/png": "[encoded data removed]",
      "text/plain": [
       "<matplotlib.figure.Figure at 0x118c09590>"
      ]
     },
     "metadata": {},
     "output_type": "display_data"
    }
   ],
   "source": [
    "#Research shows that any variables that are highly correlated\n",
    "#should be removed from further analysis. But, PCA takes care of multicollinearity, so maybe \n",
    "#I identify them which ones there are and let PCA to do its job.  \n",
    "#Just in case let's see how two highly correlated variables look like\n",
    "#using prettyplots\n",
    "import matplotlib.pyplot as plt\n",
    "fig, ax = plt.subplots(1)\n",
    "for i in range(1):\n",
    "    x=df['perimeter_mean']\n",
    "    y=df['area_worst']\n",
    "    ax.scatter(x,y, label=str(i))\n",
    "#ax.legend()\n",
    "ax.set_title('Correlation of perimeter_mean and area_worst with correlation .99 or r-square= .81')\n",
    "fig.savefig('scatter.png')"
   ]
  },
  {
   "cell_type": "code",
   "execution_count": 24,
   "metadata": {
    "collapsed": false
   },
   "outputs": [
    {
     "data": {
      "image/png": "[encoded data removed]",
      "text/plain": [
       "<matplotlib.figure.Figure at 0x118f64090>"
      ]
     },
     "metadata": {},
     "output_type": "display_data"
    }
   ],
   "source": [
    "#Let's visualize another set of variables that are not correlated as highly as the first ones\n",
    "#These have a correlation coefficient of .75 which means an r-squared score of approximately .49\n",
    "fig, ax = plt.subplots(1)\n",
    "for i in range(1):\n",
    "    x=df['concavity_mean']\n",
    "    y=df['compactness_worst']\n",
    "    ax.scatter(x,y, label=str(i))\n",
    "#ax.legend()\n",
    "ax.set_title('Correlation of the mean of concavity and worst compactness')\n",
    "fig.savefig('scatter.png')"
   ]
  },
  {
   "cell_type": "code",
   "execution_count": 25,
   "metadata": {
    "collapsed": false
   },
   "outputs": [
    {
     "name": "stdout",
     "output_type": "stream",
     "text": [
      "Processed feature columns (29 total features):\n",
      "['radius_mean', 'texture_mean', 'perimeter_mean', 'area_mean', 'smoothness_mean', 'compactness_mean', 'concavity_mean', 'concave points_mean', 'symmetry_mean', 'fractal_dimension_mean', 'radius_se', 'texture_se', 'perimeter_se', 'area_se', 'smoothness_se', 'compactness_se', 'concavity_se', 'concave points_se', 'symmetry_se', 'fractal_dimension_se', 'radius_worst', 'texture_worst', 'perimeter_worst', 'area_worst', 'smoothness_worst', 'compactness_worst', 'concavity_worst', 'concave points_worst', 'symmetry_worst']\n",
      "Target columns (1 total features):\n",
      "['diagnosis']\n"
     ]
    }
   ],
   "source": [
    "def preprocess_features(X):\n",
    "    \n",
    "    # Initialize new output DataFrame\n",
    "    output = pd.DataFrame(index = X.index)\n",
    "\n",
    "    # Investigate each feature column for the data\n",
    "    for col, col_data in X.iteritems():\n",
    "        \n",
    "        # If data type is non-numeric, replace all M/B malignant/benign values with 1/0\n",
    "        if col_data.dtype == object:\n",
    "            col_data = col_data.replace(['M', 'B'], [1, 0])\n",
    " \n",
    "        # Collect the revised columns\n",
    "        output = output.join(col_data)\n",
    "    \n",
    "    return output\n",
    "\n",
    "X = preprocess_features(X)\n",
    "Y = preprocess_features(Y)\n",
    "print \"Processed feature columns ({} total features):\\n{}\".format(len(X.columns), list(X.columns))\n",
    "print \"Target columns ({} total features):\\n{}\".format(len(Y.columns), list(Y.columns))"
   ]
  },
  {
   "cell_type": "code",
   "execution_count": 26,
   "metadata": {
    "collapsed": false
   },
   "outputs": [
    {
     "name": "stdout",
     "output_type": "stream",
     "text": [
      "Training set has 300 samples.\n",
      "Testing set has 269 samples.\n"
     ]
    }
   ],
   "source": [
    "# Set the number of training points\n",
    "nr_train = 300\n",
    "# Set the number of testing points\n",
    "nr_test = X.shape[0] - nr_train\n",
    "\n",
    "# TODO: Shuffle and split the dataset into the number of training and testing points above\n",
    "X_train, X_test, Y_train, Y_test = train_test_split(X, Y, test_size=nr_test, random_state=40)\n",
    "\n",
    "# Show the results of the split\n",
    "print \"Training set has {} samples.\".format(X_train.shape[0])\n",
    "print \"Testing set has {} samples.\".format(X_test.shape[0])"
   ]
  },
  {
   "cell_type": "markdown",
   "metadata": {},
   "source": [
    "##### Benchmark Model\n",
    "\n",
    "The highest accuracy the better the model will be predicting whether a person diagnosed with breast cancer has a benign or malignant tumor. To form a solid idea on the benchmark models, I perused the research literature on the same topic – predicting the type of cancer from computer-generated images.  One study that uses mammogram images of 200 cases and utilizes both k-nearest and SVM methods to classify the type of cancer achieved specificity of 92.10% with standard deviation of 2.75 and accuracy levels of 92.16% with standard deviation of 3.60 (Zhang, Wang & Yang, 2016).  Another study that suggests the use of magnetic resonance imaging (MRI) instead of ultrasound to detect the type of breast cancer among diagnosed women, utilized a sample of 110 lymph nodes from pre-operative MRIs. They achieved an accuracy level of 79.1%, and was considered much superior to the ultrasound (Chung, Hyun, Kim, Gweon, Kim, Ryu, & Son, 2014).  A third study that also compares the accuracy levels of ultrasounds and mammography, found that mammography images are a better predictor than ultrasounds at accuracy levels of 90.7% (Tozaki & Fukuma, 2011).  Judging from these three different studies on this similar topic, I calculated an average of accuracy levels of 87.32%.  Therefore, my benchmark levels will be 87% or higher.  \n"
   ]
  },
  {
   "cell_type": "code",
   "execution_count": 27,
   "metadata": {
    "collapsed": true
   },
   "outputs": [],
   "source": [
    "from sklearn.metrics import f1_score\n",
    "def train_classifier(clf, X_train, Y_train):\n",
    "    ''' Fits a classifier to the training data. '''\n",
    "    \n",
    "    # Start the clock, train the classifier, then stop the clock\n",
    "    start = time()\n",
    "    clf.fit(X_train, Y_train)\n",
    "    end = time()\n",
    "    \n",
    "    # Print the results\n",
    "    print \"Trained model in {:.4f} seconds\".format(end - start)\n",
    "\n",
    "    \n",
    "def predict_labels(clf, features, target):\n",
    "    ''' Makes predictions using a fit classifier based on F1 score. '''\n",
    "    \n",
    "    # Start the clock, make predictions, then stop the clock\n",
    "    start = time()\n",
    "    Y_pred = clf.predict(features)\n",
    "    end = time()\n",
    "    \n",
    "    # Print and return results\n",
    "    print \"Made predictions in {:.4f} seconds.\".format(end - start)\n",
    "    return f1_score(target.values, Y_pred, pos_label=1)\n",
    "\n",
    "\n",
    "def train_predict(clf, X_train, Y_train, X_test, Y_test):\n",
    "    ''' Train and predict using a classifer based on F1 score. '''\n",
    "    \n",
    "    # Indicate the classifier and the training set size\n",
    "    print \"Training a {} using a training set size of {}. . .\".format(clf.__class__.__name__, len(X_train))\n",
    "    \n",
    "    # Train the classifier\n",
    "    train_classifier(clf, X_train, Y_train)\n",
    "    \n",
    "    # Print the results of prediction for both training and testing\n",
    "    print \"F1 score for training set: {:.4f}.\".format(predict_labels(clf, X_train, Y_train))\n",
    "    print \"F1 score for test set: {:.4f}.\".format(predict_labels(clf, X_test, Y_test))"
   ]
  },
  {
   "cell_type": "markdown",
   "metadata": {},
   "source": [
    "##### Evaluation metric\n",
    "\n",
    "F1 score is a measure of accuracy or the ratio of the data that was accurately predicted. The closer the F-score is to 1 the best the prediction is and the closer to 0 it is, the worse the prediction. F-score considers the true positives and the true negatives, and is best used when comparing various classifiers as I am proposing to do in this dataset.  From the literature, I reached the conclusion that F-score is the best evaluation metric to be used for this type of classification problem.  The formula for the F1 score from the sklearn documentation is F1 = 2* (precision * recall) / (precision + recall). \n"
   ]
  },
  {
   "cell_type": "code",
   "execution_count": 28,
   "metadata": {
    "collapsed": true
   },
   "outputs": [],
   "source": [
    "clf_A = KNeighborsClassifier()\n",
    "clf_B = DecisionTreeClassifier(random_state=0)\n",
    "clf_C = SVC()\n",
    "clf_D = GaussianNB()\n",
    "clf_E = RandomForestClassifier(n_estimators=10)\n",
    "clf_G = AdaBoostClassifier()\n",
    "clf_H = QuadraticDiscriminantAnalysis()\n",
    "clf_I = MLPClassifier(alpha=1)\n"
   ]
  },
  {
   "cell_type": "code",
   "execution_count": 29,
   "metadata": {
    "collapsed": true
   },
   "outputs": [],
   "source": [
    "X_train_100 = X_train[:100]\n",
    "Y_train_100 = Y_train[:100]\n",
    "\n",
    "X_train_200 = X_train[:200]\n",
    "Y_train_200 = Y_train[:200]\n",
    "\n",
    "X_train_300 = X_train[:300]\n",
    "Y_train_300 = Y_train[:300]\n"
   ]
  },
  {
   "cell_type": "code",
   "execution_count": 30,
   "metadata": {
    "collapsed": false
   },
   "outputs": [
    {
     "name": "stdout",
     "output_type": "stream",
     "text": [
      "Training a KNeighborsClassifier using a training set size of 100. . .\n",
      "Trained model in 0.0035 seconds\n",
      "Made predictions in 0.0019 seconds.\n",
      "F1 score for training set: 0.8857.\n",
      "Made predictions in 0.0018 seconds.\n",
      "F1 score for test set: 0.8588.\n",
      "/n\n",
      "Training a KNeighborsClassifier using a training set size of 200. . .\n",
      "Trained model in 0.0005 seconds\n",
      "Made predictions in 0.0019 seconds.\n",
      "F1 score for training set: 0.9200.\n",
      "Made predictions in 0.0032 seconds.\n",
      "F1 score for test set: 0.8927.\n",
      "/n\n",
      "Training a KNeighborsClassifier using a training set size of 300. . .\n",
      "Trained model in 0.0006 seconds\n",
      "Made predictions in 0.0026 seconds.\n",
      "F1 score for training set: 0.9264.\n",
      "Made predictions in 0.0023 seconds.\n",
      "F1 score for test set: 0.9081.\n",
      "/n\n",
      "Training a DecisionTreeClassifier using a training set size of 100. . .\n",
      "Trained model in 0.0030 seconds\n",
      "Made predictions in 0.0004 seconds.\n",
      "F1 score for training set: 1.0000.\n",
      "Made predictions in 0.0001 seconds.\n",
      "F1 score for test set: 0.9153.\n",
      "/n\n",
      "Training a DecisionTreeClassifier using a training set size of 200. . .\n",
      "Trained model in 0.0021 seconds\n",
      "Made predictions in 0.0002 seconds.\n",
      "F1 score for training set: 1.0000.\n",
      "Made predictions in 0.0001 seconds.\n",
      "F1 score for test set: 0.8634.\n",
      "/n\n",
      "Training a DecisionTreeClassifier using a training set size of 300. . .\n",
      "Trained model in 0.0032 seconds\n",
      "Made predictions in 0.0002 seconds.\n",
      "F1 score for training set: 1.0000.\n",
      "Made predictions in 0.0001 seconds.\n",
      "F1 score for test set: 0.9239.\n",
      "/n\n",
      "Training a SVC using a training set size of 100. . .\n",
      "Trained model in 0.0026 seconds\n",
      "Made predictions in 0.0005 seconds.\n",
      "F1 score for training set: 1.0000.\n",
      "Made predictions in 0.0011 seconds.\n",
      "F1 score for test set: 0.0000.\n",
      "/n\n",
      "Training a SVC using a training set size of 200. . .\n",
      "Trained model in 0.0026 seconds\n",
      "Made predictions in 0.0016 seconds.\n",
      "F1 score for training set: 1.0000.\n",
      "Made predictions in 0.0020 seconds.\n",
      "F1 score for test set: 0.0000.\n",
      "/n\n",
      "Training a SVC using a training set size of 300. . .\n",
      "Trained model in 0.0049 seconds\n",
      "Made predictions in 0.0032 seconds.\n",
      "F1 score for training set: 1.0000.\n",
      "Made predictions in 0.0033 seconds.\n",
      "F1 score for test set: 0.0000.\n",
      "/n\n",
      "Training a GaussianNB using a training set size of 100. . .\n",
      "Trained model in 0.0006 seconds\n",
      "Made predictions in 0.0002 seconds.\n",
      "F1 score for training set: 0.8788.\n",
      "Made predictions in 0.0003 seconds.\n",
      "F1 score for test set: 0.9341.\n",
      "/n\n",
      "Training a GaussianNB using a training set size of 200. . .\n",
      "Trained model in 0.0006 seconds\n",
      "Made predictions in 0.0003 seconds.\n",
      "F1 score for training set: 0.9091.\n",
      "Made predictions in 0.0005 seconds.\n",
      "F1 score for test set: 0.9162.\n",
      "/n\n",
      "Training a GaussianNB using a training set size of 300. . .\n",
      "Trained model in 0.0007 seconds\n",
      "Made predictions in 0.0003 seconds.\n",
      "F1 score for training set: 0.9058.\n",
      "Made predictions in 0.0003 seconds.\n",
      "F1 score for test set: 0.9341.\n",
      "/n\n",
      "Training a RandomForestClassifier using a training set size of 100. . .\n",
      "Trained model in 0.0405 seconds\n",
      "Made predictions in 0.0056 seconds.\n",
      "F1 score for training set: 1.0000.\n",
      "Made predictions in 0.0057 seconds.\n",
      "F1 score for test set: 0.8889.\n",
      "/n\n",
      "Training a RandomForestClassifier using a training set size of 200. . .\n",
      "Trained model in 0.0356 seconds\n",
      "Made predictions in 0.0057 seconds.\n",
      "F1 score for training set: 0.9867.\n",
      "Made predictions in 0.0084 seconds.\n",
      "F1 score for test set: 0.9617.\n",
      "/n\n",
      "Training a RandomForestClassifier using a training set size of 300. . .\n"
     ]
    },
    {
     "name": "stderr",
     "output_type": "stream",
     "text": [
      "/anaconda/lib/python2.7/site-packages/ipykernel/__main__.py:7: DataConversionWarning: A column-vector y was passed when a 1d array was expected. Please change the shape of y to (n_samples, ), for example using ravel().\n",
      "//anaconda/lib/python2.7/site-packages/sklearn/utils/validation.py:526: DataConversionWarning: A column-vector y was passed when a 1d array was expected. Please change the shape of y to (n_samples, ), for example using ravel().\n",
      "  y = column_or_1d(y, warn=True)\n",
      "//anaconda/lib/python2.7/site-packages/sklearn/metrics/classification.py:1113: UndefinedMetricWarning: F-score is ill-defined and being set to 0.0 due to no predicted samples.\n",
      "  'precision', 'predicted', average, warn_for)\n",
      "/anaconda/lib/python2.7/site-packages/ipykernel/__main__.py:7: DataConversionWarning: A column-vector y was passed when a 1d array was expected. Please change the shape of y to (n_samples,), for example using ravel().\n"
     ]
    },
    {
     "name": "stdout",
     "output_type": "stream",
     "text": [
      "Trained model in 0.0383 seconds\n",
      "Made predictions in 0.0062 seconds.\n",
      "F1 score for training set: 0.9871.\n",
      "Made predictions in 0.0065 seconds.\n",
      "F1 score for test set: 0.9231.\n",
      "/n\n",
      "Training a AdaBoostClassifier using a training set size of 100. . .\n",
      "Trained model in 0.1505 seconds\n",
      "Made predictions in 0.0042 seconds.\n",
      "F1 score for training set: 1.0000.\n",
      "Made predictions in 0.0052 seconds.\n",
      "F1 score for test set: 0.9457.\n",
      "/n\n",
      "Training a AdaBoostClassifier using a training set size of 200. . .\n",
      "Trained model in 0.1612 seconds\n",
      "Made predictions in 0.0052 seconds.\n",
      "F1 score for training set: 1.0000.\n",
      "Made predictions in 0.0053 seconds.\n",
      "F1 score for test set: 0.9399.\n",
      "/n\n",
      "Training a AdaBoostClassifier using a training set size of 300. . .\n",
      "Trained model in 0.1702 seconds\n",
      "Made predictions in 0.0054 seconds.\n",
      "F1 score for training set: 1.0000.\n",
      "Made predictions in 0.0053 seconds.\n",
      "F1 score for test set: 0.9451.\n",
      "/n\n",
      "Training a QuadraticDiscriminantAnalysis using a training set size of 100. . .\n",
      "Trained model in 0.0085 seconds\n",
      "Made predictions in 0.0005 seconds.\n",
      "F1 score for training set: 0.9855.\n",
      "Made predictions in 0.0008 seconds.\n",
      "F1 score for test set: 0.8571.\n",
      "/n\n",
      "Training a QuadraticDiscriminantAnalysis using a training set size of 200. . .\n",
      "Trained model in 0.0015 seconds\n",
      "Made predictions in 0.0005 seconds.\n",
      "F1 score for training set: 0.9733.\n",
      "Made predictions in 0.0004 seconds.\n",
      "F1 score for test set: 0.9570.\n",
      "/n\n",
      "Training a QuadraticDiscriminantAnalysis using a training set size of 300. . .\n",
      "Trained model in 0.0012 seconds\n",
      "Made predictions in 0.0005 seconds.\n",
      "F1 score for training set: 0.9528.\n",
      "Made predictions in 0.0005 seconds.\n",
      "F1 score for test set: 0.9688.\n",
      "/n\n",
      "Training a MLPClassifier using a training set size of 100. . .\n",
      "Trained model in 0.0156 seconds\n",
      "Made predictions in 0.0003 seconds.\n",
      "F1 score for training set: 0.1579.\n",
      "Made predictions in 0.0005 seconds.\n",
      "F1 score for test set: 0.0816.\n",
      "/n\n",
      "Training a MLPClassifier using a training set size of 200. . .\n",
      "Trained model in 0.0106 seconds\n",
      "Made predictions in 0.0004 seconds.\n",
      "F1 score for training set: 0.5507.\n",
      "Made predictions in 0.0005 seconds.\n",
      "F1 score for test set: 0.5179.\n",
      "/n\n",
      "Training a MLPClassifier using a training set size of 300. . .\n",
      "Trained model in 0.0818 seconds\n",
      "Made predictions in 0.0007 seconds.\n",
      "F1 score for training set: 0.8851.\n",
      "Made predictions in 0.0004 seconds.\n",
      "F1 score for test set: 0.8757.\n",
      "/n\n"
     ]
    },
    {
     "name": "stderr",
     "output_type": "stream",
     "text": [
      "//anaconda/lib/python2.7/site-packages/sklearn/neural_network/multilayer_perceptron.py:904: DataConversionWarning: A column-vector y was passed when a 1d array was expected. Please change the shape of y to (n_samples, ), for example using ravel().\n",
      "  y = column_or_1d(y, warn=True)\n"
     ]
    }
   ],
   "source": [
    "for clf in [clf_A, clf_B, clf_C, clf_D, clf_E, clf_G, clf_H, clf_I]:\n",
    "    for size in [100, 200, 300]:\n",
    "        train_predict(clf, X_train[:size], Y_train[:size], X_test, Y_test)\n",
    "        print '/n'"
   ]
  },
  {
   "cell_type": "markdown",
   "metadata": {},
   "source": [
    "###### Conclusion\n",
    "\n",
    "QDA seems to produce the best possible results for predicting the type of breast cancer from these images of diagnosed cases.  "
   ]
  },
  {
   "cell_type": "markdown",
   "metadata": {},
   "source": [
    "###### REFERENCES:\n",
    "\n",
    "DeSantis, C., Ma, J., Bryan, L. and Jemal, A. (2014), Breast cancer statistics, 2013. CA A Cancer Journal for Clinicians, 64: 52–62. doi:10.3322/caac.21203\n",
    "\n",
    "U.S. Cancer Statistics Working Group. United States Cancer Statistics: 1999–2013 Incidence and Mortality Web-based Report. Atlanta (GA): Department of Health and Human Services, Centers for Disease Control and Prevention, and National Cancer Institute; 2016. Available at: http://www.cdc.gov/uscs.\n",
    "\n",
    "Zhang, Wang, & Yang (2016). Computer aided diagnosis of abnormal breast in mammogram images by weighted type fractional Fourier transform, Advances in Mechanical Engineering, 8(2), 1-11. \n",
    "Chung, Youk, Kim, Gweon, Kim, Ryu, & Son (2014). Role of diffusion-weighted MRI: predicting axillary lymph node metastases in breast cancer, Acta Radiologica, 55(8), 909 - 916\n",
    "Tozaki & Fukuma (2011). Does power Doppler ultrasonography improve the BI-RADS category assessment and diagnostic accuracy of solid breast lesions? Acta Radiologica, 52 (7), 706 - 710\n",
    "\n",
    "\n"
   ]
  },
  {
   "cell_type": "code",
   "execution_count": null,
   "metadata": {
    "collapsed": true
   },
   "outputs": [],
   "source": []
  }
 ],
 "metadata": {
  "kernelspec": {
   "display_name": "Python [conda root]",
   "language": "python",
   "name": "conda-root-py"
  },
  "language_info": {
   "codemirror_mode": {
    "name": "ipython",
    "version": 2
   },
   "file_extension": ".py",
   "mimetype": "text/x-python",
   "name": "python",
   "nbconvert_exporter": "python",
   "pygments_lexer": "ipython2",
   "version": "2.7.12"
  }
 },
 "nbformat": 4,
 "nbformat_minor": 1
}
