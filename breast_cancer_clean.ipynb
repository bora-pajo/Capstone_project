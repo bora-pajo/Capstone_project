{
 "cells": [
  {
   "cell_type": "code",
   "execution_count": 1,
   "metadata": {
    "collapsed": false
   },
   "outputs": [
    {
     "name": "stderr",
     "output_type": "stream",
     "text": [
      "//anaconda/lib/python2.7/site-packages/sklearn/cross_validation.py:44: DeprecationWarning: This module was deprecated in version 0.18 in favor of the model_selection module into which all the refactored classes and functions are moved. Also note that the interface of the new CV iterators are different from that of this module. This module will be removed in 0.20.\n",
      "  \"This module will be removed in 0.20.\", DeprecationWarning)\n",
      "//anaconda/lib/python2.7/site-packages/sklearn/grid_search.py:43: DeprecationWarning: This module was deprecated in version 0.18 in favor of the model_selection module into which all the refactored classes and functions are moved. This module will be removed in 0.20.\n",
      "  DeprecationWarning)\n"
     ]
    }
   ],
   "source": [
    "#First import all the libraries needed\n",
    "\n",
    "import numpy as np #for linear algebra\n",
    "import pandas as pd #for chopping, processing\n",
    "import csv #for opening csv files\n",
    "%matplotlib inline \n",
    "import matplotlib.pyplot as plt #for plotting the graphs\n",
    "from sklearn.linear_model import LogisticRegression #for logistic regression\n",
    "from sklearn.pipeline import Pipeline #to assemble steps for cross validation\n",
    "from sklearn.preprocessing import PolynomialFeatures #for all the polynomial features\n",
    "from sklearn import svm #for Support Vector Machines\n",
    "from sklearn.neighbors import NearestNeighbors #for nearest neighbor classifier\n",
    "from sklearn import tree\n",
    "from sklearn.tree import DecisionTreeClassifier #for decision tree classifier\n",
    "from sklearn.naive_bayes import GaussianNB  #for naive bayes classifier\n",
    "from scipy import stats #for statistical info\n",
    "from sklearn.model_selection import train_test_split # to split the data in train and test\n",
    "from sklearn.model_selection import KFold # for cross validation\n",
    "from sklearn.grid_search import GridSearchCV  # for tuning parameters\n",
    "from sklearn.neighbors import KNeighborsClassifier  #for k-neighbor classifier\n",
    "from sklearn import metrics  # for checking the accuracy \n",
    "from time import time"
   ]
  },
  {
   "cell_type": "code",
   "execution_count": 2,
   "metadata": {
    "collapsed": true
   },
   "outputs": [],
   "source": [
    "#load data\n",
    "data = pd.read_csv(\"data.csv\")"
   ]
  },
  {
   "cell_type": "code",
   "execution_count": 3,
   "metadata": {
    "collapsed": false
   },
   "outputs": [
    {
     "data": {
      "text/plain": [
       "(569, 32)"
      ]
     },
     "execution_count": 3,
     "metadata": {},
     "output_type": "execute_result"
    }
   ],
   "source": [
    "#to know the number of cases and the number of variables\n",
    "data.shape"
   ]
  },
  {
   "cell_type": "code",
   "execution_count": 4,
   "metadata": {
    "collapsed": false
   },
   "outputs": [
    {
     "name": "stdout",
     "output_type": "stream",
     "text": [
      "There are 569 cases in this dataset\n",
      "There are 31 features in this dataset\n",
      "There are 212 cases diagnosed as malignant tumor\n",
      "There are 357 cases diagnosed as benign tumor\n",
      "The percentage of malignant cases is: 37.2583%\n"
     ]
    }
   ],
   "source": [
    "#Description of the dataset\n",
    "\n",
    "#how many cases are included in the dataset\n",
    "length = len(data)\n",
    "#how many features are in the dataset\n",
    "features = data.shape[1]-1\n",
    "\n",
    "# Number of malignant cases\n",
    "malignant = len(data[data['diagnosis']=='M'])\n",
    "\n",
    "#Number of benign cases\n",
    "benign = len(data[data['diagnosis']=='B'])\n",
    "\n",
    "#Rate of malignant tumors over all cases\n",
    "rate = (float(malignant)/(length))*100\n",
    "\n",
    "print \"There are \"+ str(len(data))+\" cases in this dataset\"\n",
    "print \"There are {}\".format(features)+\" features in this dataset\"\n",
    "print \"There are {}\".format(malignant)+\" cases diagnosed as malignant tumor\"\n",
    "print \"There are {}\".format(benign)+\" cases diagnosed as benign tumor\"\n",
    "print \"The percentage of malignant cases is: {:.4f}%\".format(rate)"
   ]
  },
  {
   "cell_type": "code",
   "execution_count": 5,
   "metadata": {
    "collapsed": false
   },
   "outputs": [
    {
     "data": {
      "text/plain": [
       "array(['M', 'B'], dtype=object)"
      ]
     },
     "execution_count": 5,
     "metadata": {},
     "output_type": "execute_result"
    }
   ],
   "source": [
    "data.diagnosis.unique()"
   ]
  },
  {
   "cell_type": "code",
   "execution_count": 6,
   "metadata": {
    "collapsed": false
   },
   "outputs": [
    {
     "data": {
      "text/html": [
       "<div>\n",
       "<table border=\"1\" class=\"dataframe\">\n",
       "  <thead>\n",
       "    <tr style=\"text-align: right;\">\n",
       "      <th></th>\n",
       "      <th>diagnosis</th>\n",
       "      <th>radius_mean</th>\n",
       "      <th>texture_mean</th>\n",
       "      <th>perimeter_mean</th>\n",
       "      <th>area_mean</th>\n",
       "      <th>smoothness_mean</th>\n",
       "      <th>compactness_mean</th>\n",
       "      <th>concavity_mean</th>\n",
       "      <th>concave points_mean</th>\n",
       "      <th>symmetry_mean</th>\n",
       "      <th>...</th>\n",
       "      <th>radius_worst</th>\n",
       "      <th>texture_worst</th>\n",
       "      <th>perimeter_worst</th>\n",
       "      <th>area_worst</th>\n",
       "      <th>smoothness_worst</th>\n",
       "      <th>compactness_worst</th>\n",
       "      <th>concavity_worst</th>\n",
       "      <th>concave points_worst</th>\n",
       "      <th>symmetry_worst</th>\n",
       "      <th>fractal_dimension_worst</th>\n",
       "    </tr>\n",
       "  </thead>\n",
       "  <tbody>\n",
       "    <tr>\n",
       "      <th>0</th>\n",
       "      <td>M</td>\n",
       "      <td>17.99</td>\n",
       "      <td>10.38</td>\n",
       "      <td>122.8</td>\n",
       "      <td>1001.0</td>\n",
       "      <td>0.1184</td>\n",
       "      <td>0.2776</td>\n",
       "      <td>0.3001</td>\n",
       "      <td>0.1471</td>\n",
       "      <td>0.2419</td>\n",
       "      <td>...</td>\n",
       "      <td>25.38</td>\n",
       "      <td>17.33</td>\n",
       "      <td>184.6</td>\n",
       "      <td>2019.0</td>\n",
       "      <td>0.1622</td>\n",
       "      <td>0.6656</td>\n",
       "      <td>0.7119</td>\n",
       "      <td>0.2654</td>\n",
       "      <td>0.4601</td>\n",
       "      <td>0.1189</td>\n",
       "    </tr>\n",
       "  </tbody>\n",
       "</table>\n",
       "<p>1 rows × 31 columns</p>\n",
       "</div>"
      ],
      "text/plain": [
       "  diagnosis  radius_mean  texture_mean  perimeter_mean  area_mean  \\\n",
       "0         M        17.99         10.38           122.8     1001.0   \n",
       "\n",
       "   smoothness_mean  compactness_mean  concavity_mean  concave points_mean  \\\n",
       "0           0.1184            0.2776          0.3001               0.1471   \n",
       "\n",
       "   symmetry_mean           ...             radius_worst  texture_worst  \\\n",
       "0         0.2419           ...                    25.38          17.33   \n",
       "\n",
       "   perimeter_worst  area_worst  smoothness_worst  compactness_worst  \\\n",
       "0            184.6      2019.0            0.1622             0.6656   \n",
       "\n",
       "   concavity_worst  concave points_worst  symmetry_worst  \\\n",
       "0           0.7119                0.2654          0.4601   \n",
       "\n",
       "   fractal_dimension_worst  \n",
       "0                   0.1189  \n",
       "\n",
       "[1 rows x 31 columns]"
      ]
     },
     "execution_count": 6,
     "metadata": {},
     "output_type": "execute_result"
    }
   ],
   "source": [
    "#drop ID because we do not need the ID number as shown above\n",
    "\n",
    "data.drop('id',axis=1,inplace=True)\n",
    "#check that dropped\n",
    "data.head(1)"
   ]
  },
  {
   "cell_type": "code",
   "execution_count": 7,
   "metadata": {
    "collapsed": false
   },
   "outputs": [
    {
     "name": "stdout",
     "output_type": "stream",
     "text": [
      "['radius_mean', 'texture_mean', 'perimeter_mean', 'area_mean', 'smoothness_mean', 'compactness_mean', 'concavity_mean', 'concave points_mean', 'symmetry_mean', 'fractal_dimension_mean', 'radius_se', 'texture_se', 'perimeter_se', 'area_se', 'smoothness_se', 'compactness_se', 'concavity_se', 'concave points_se', 'symmetry_se', 'fractal_dimension_se', 'radius_worst', 'texture_worst', 'perimeter_worst', 'area_worst', 'smoothness_worst', 'compactness_worst', 'concavity_worst', 'concave points_worst', 'symmetry_worst']\n"
     ]
    }
   ],
   "source": [
    "# Extract feature columns where everything but the diagnosis is included.\n",
    "# I am separating all the features that are helpful in determining the diagnosis\n",
    "features = list(data.columns[1:30])\n",
    "print features"
   ]
  },
  {
   "cell_type": "code",
   "execution_count": 8,
   "metadata": {
    "collapsed": false
   },
   "outputs": [
    {
     "name": "stdout",
     "output_type": "stream",
     "text": [
      "Index([u'diagnosis'], dtype='object')\n"
     ]
    }
   ],
   "source": [
    "#Our target is predicting the diagnosis in benign or malignant, so we need\n",
    "#to extract this one as the dependent variable - the variable we will predict\n",
    "target = data.columns[0:1]\n",
    "print target"
   ]
  },
  {
   "cell_type": "code",
   "execution_count": 9,
   "metadata": {
    "collapsed": true
   },
   "outputs": [],
   "source": [
    "#Now we need to separate the data into feature data and target data\n",
    "X = data[features] #our features that we will use to predict Y\n",
    "Y = data[target] #our dependent variable, the one we are trying to predict from X"
   ]
  },
  {
   "cell_type": "code",
   "execution_count": 10,
   "metadata": {
    "collapsed": false
   },
   "outputs": [
    {
     "data": {
      "text/plain": [
       "(569, 29)"
      ]
     },
     "execution_count": 10,
     "metadata": {},
     "output_type": "execute_result"
    }
   ],
   "source": [
    "# X should have 29 variables and 569 cases\n",
    "X.shape"
   ]
  },
  {
   "cell_type": "code",
   "execution_count": 11,
   "metadata": {
    "collapsed": false
   },
   "outputs": [
    {
     "data": {
      "text/plain": [
       "(569, 1)"
      ]
     },
     "execution_count": 11,
     "metadata": {},
     "output_type": "execute_result"
    }
   ],
   "source": [
    "# Y should have 1 variable - just the diagnosis and 569 cases\n",
    "Y.shape"
   ]
  },
  {
   "cell_type": "code",
   "execution_count": 12,
   "metadata": {
    "collapsed": false
   },
   "outputs": [
    {
     "name": "stdout",
     "output_type": "stream",
     "text": [
      "\n",
      "Feature values:\n",
      "   radius_mean  texture_mean  perimeter_mean  area_mean  smoothness_mean  \\\n",
      "0        17.99         10.38           122.8     1001.0           0.1184   \n",
      "\n",
      "   compactness_mean  concavity_mean  concave points_mean  symmetry_mean  \\\n",
      "0            0.2776          0.3001               0.1471         0.2419   \n",
      "\n",
      "   fractal_dimension_mean       ...        fractal_dimension_se  radius_worst  \\\n",
      "0                 0.07871       ...                    0.006193         25.38   \n",
      "\n",
      "   texture_worst  perimeter_worst  area_worst  smoothness_worst  \\\n",
      "0          17.33            184.6      2019.0            0.1622   \n",
      "\n",
      "   compactness_worst  concavity_worst  concave points_worst  symmetry_worst  \n",
      "0             0.6656           0.7119                0.2654          0.4601  \n",
      "\n",
      "[1 rows x 29 columns]\n",
      "\n",
      "Target values:\n",
      "  diagnosis\n",
      "0         M\n"
     ]
    }
   ],
   "source": [
    "# Show the feature information by printing the first row\n",
    "# Show the traget information by also printing the first row\n",
    "print \"\\nFeature values:\"\n",
    "print X.head(1)\n",
    "print \"\\nTarget values:\"\n",
    "print Y.head(1)"
   ]
  },
  {
   "cell_type": "code",
   "execution_count": 13,
   "metadata": {
    "collapsed": true
   },
   "outputs": [],
   "source": [
    "df=pd.DataFrame(data)"
   ]
  },
  {
   "cell_type": "code",
   "execution_count": 14,
   "metadata": {
    "collapsed": false,
    "scrolled": true
   },
   "outputs": [
    {
     "data": {
      "image/png": "[encoded data removed]",
      "text/plain": [
       "<matplotlib.figure.Figure at 0x117a02a10>"
      ]
     },
     "metadata": {},
     "output_type": "display_data"
    }
   ],
   "source": [
    "#Research shows that any variables that are highly correlated\n",
    "#should be removed from further analysis. But, PCA takes care of multicollinearity, so maybe \n",
    "#I identify them which ones there are and let PCA to do its job.  \n",
    "#Just in case let's see how two highly correlated variables look like\n",
    "#using prettyplots\n",
    "import matplotlib.pyplot as plt\n",
    "fig, ax = plt.subplots(1)\n",
    "for i in range(1):\n",
    "    x=df['perimeter_mean']\n",
    "    y=df['area_worst']\n",
    "    ax.scatter(x,y, label=str(i))\n",
    "#ax.legend()\n",
    "ax.set_title('Correlation of perimeter_mean and area_worst with correlation .99 or r-square= .81')\n",
    "fig.savefig('scatter.png')"
   ]
  },
  {
   "cell_type": "code",
   "execution_count": 15,
   "metadata": {
    "collapsed": false
   },
   "outputs": [
    {
     "data": {
      "image/png": "[encoded data removed]",
      "text/plain": [
       "<matplotlib.figure.Figure at 0x117a55490>"
      ]
     },
     "metadata": {},
     "output_type": "display_data"
    }
   ],
   "source": [
    "#Let's visualize another set of variables that are not correlated as highly as the first ones\n",
    "#These have a correlation coefficient of .75 which means an r-squared score of approximately .49\n",
    "fig, ax = plt.subplots(1)\n",
    "for i in range(1):\n",
    "    x=df['concavity_mean']\n",
    "    y=df['compactness_worst']\n",
    "    ax.scatter(x,y, label=str(i))\n",
    "#ax.legend()\n",
    "ax.set_title('Correlation of the mean of concavity and worst compactness')\n",
    "fig.savefig('scatter.png')"
   ]
  },
  {
   "cell_type": "code",
   "execution_count": 16,
   "metadata": {
    "collapsed": false
   },
   "outputs": [
    {
     "name": "stdout",
     "output_type": "stream",
     "text": [
      "Processed feature columns (29 total features):\n",
      "['radius_mean', 'texture_mean', 'perimeter_mean', 'area_mean', 'smoothness_mean', 'compactness_mean', 'concavity_mean', 'concave points_mean', 'symmetry_mean', 'fractal_dimension_mean', 'radius_se', 'texture_se', 'perimeter_se', 'area_se', 'smoothness_se', 'compactness_se', 'concavity_se', 'concave points_se', 'symmetry_se', 'fractal_dimension_se', 'radius_worst', 'texture_worst', 'perimeter_worst', 'area_worst', 'smoothness_worst', 'compactness_worst', 'concavity_worst', 'concave points_worst', 'symmetry_worst']\n",
      "Target columns (1 total features):\n",
      "['diagnosis']\n"
     ]
    }
   ],
   "source": [
    "def preprocess_features(X):\n",
    "    \n",
    "    # Initialize new output DataFrame\n",
    "    output = pd.DataFrame(index = X.index)\n",
    "\n",
    "    # Investigate each feature column for the data\n",
    "    for col, col_data in X.iteritems():\n",
    "        \n",
    "        # If data type is non-numeric, replace all M/B malignant/benign values with 1/0\n",
    "        if col_data.dtype == object:\n",
    "            col_data = col_data.replace(['M', 'B'], [1, 0])\n",
    " \n",
    "        # Collect the revised columns\n",
    "        output = output.join(col_data)\n",
    "    \n",
    "    return output\n",
    "\n",
    "X = preprocess_features(X)\n",
    "Y = preprocess_features(Y)\n",
    "print \"Processed feature columns ({} total features):\\n{}\".format(len(X.columns), list(X.columns))\n",
    "print \"Target columns ({} total features):\\n{}\".format(len(Y.columns), list(Y.columns))"
   ]
  },
  {
   "cell_type": "code",
   "execution_count": 17,
   "metadata": {
    "collapsed": false
   },
   "outputs": [
    {
     "name": "stdout",
     "output_type": "stream",
     "text": [
      "Training set has 300 samples.\n",
      "Testing set has 269 samples.\n"
     ]
    }
   ],
   "source": [
    "# import cross_validation to split the train and testing\n",
    "from sklearn.cross_validation import train_test_split\n",
    "# Set the number of training points\n",
    "nr_train = 300\n",
    "# Set the number of testing points\n",
    "nr_test = X.shape[0] - nr_train\n",
    "\n",
    "# TODO: Shuffle and split the dataset into the number of training and testing points above\n",
    "X_train, X_test, Y_train, Y_test = train_test_split(X, Y, test_size=nr_test, random_state=40)\n",
    "\n",
    "# Show the results of the split\n",
    "print \"Training set has {} samples.\".format(X_train.shape[0])\n",
    "print \"Testing set has {} samples.\".format(X_test.shape[0])"
   ]
  },
  {
   "cell_type": "code",
   "execution_count": 18,
   "metadata": {
    "collapsed": true
   },
   "outputs": [],
   "source": [
    "from sklearn.metrics import f1_score\n",
    "def train_classifier(clf, X_train, Y_train):\n",
    "    ''' Fits a classifier to the training data. '''\n",
    "    \n",
    "    # Start the clock, train the classifier, then stop the clock\n",
    "    start = time()\n",
    "    clf.fit(X_train, Y_train)\n",
    "    end = time()\n",
    "    \n",
    "    # Print the results\n",
    "    print \"Trained model in {:.4f} seconds\".format(end - start)\n",
    "\n",
    "    \n",
    "def predict_labels(clf, features, target):\n",
    "    ''' Makes predictions using a fit classifier based on F1 score. '''\n",
    "    \n",
    "    # Start the clock, make predictions, then stop the clock\n",
    "    start = time()\n",
    "    Y_pred = clf.predict(features)\n",
    "    end = time()\n",
    "    \n",
    "    # Print and return results\n",
    "    print \"Made predictions in {:.4f} seconds.\".format(end - start)\n",
    "    return f1_score(target.values, Y_pred, pos_label=1)\n",
    "\n",
    "\n",
    "def train_predict(clf, X_train, Y_train, X_test, Y_test):\n",
    "    ''' Train and predict using a classifer based on F1 score. '''\n",
    "    \n",
    "    # Indicate the classifier and the training set size\n",
    "    print \"Training a {} using a training set size of {}. . .\".format(clf.__class__.__name__, len(X_train))\n",
    "    \n",
    "    # Train the classifier\n",
    "    train_classifier(clf, X_train, Y_train)\n",
    "    \n",
    "    # Print the results of prediction for both training and testing\n",
    "    print \"F1 score for training set: {:.4f}.\".format(predict_labels(clf, X_train, Y_train))\n",
    "    print \"F1 score for test set: {:.4f}.\".format(predict_labels(clf, X_test, Y_test))"
   ]
  },
  {
   "cell_type": "code",
   "execution_count": 19,
   "metadata": {
    "collapsed": true
   },
   "outputs": [],
   "source": [
    "from sklearn.tree import DecisionTreeClassifier\n",
    "from sklearn.svm import SVC\n",
    "from sklearn.neighbors import KNeighborsClassifier\n",
    "from sklearn.naive_bayes import GaussianNB\n",
    "from sklearn.ensemble import RandomForestClassifier\n",
    "from sklearn.ensemble import AdaBoostClassifier\n",
    "from sklearn.discriminant_analysis import QuadraticDiscriminantAnalysis\n",
    "from sklearn.neural_network import MLPClassifier\n"
   ]
  },
  {
   "cell_type": "code",
   "execution_count": 20,
   "metadata": {
    "collapsed": true
   },
   "outputs": [],
   "source": [
    "clf_A = KNeighborsClassifier()\n",
    "clf_B = DecisionTreeClassifier(random_state=0)\n",
    "clf_C = SVC()\n",
    "clf_D = GaussianNB()\n",
    "clf_E = RandomForestClassifier(n_estimators=10)\n",
    "clf_G = AdaBoostClassifier()\n",
    "clf_H = QuadraticDiscriminantAnalysis()\n",
    "clf_I = MLPClassifier(alpha=1)\n"
   ]
  },
  {
   "cell_type": "code",
   "execution_count": 21,
   "metadata": {
    "collapsed": true
   },
   "outputs": [],
   "source": [
    "X_train_100 = X_train[:100]\n",
    "Y_train_100 = Y_train[:100]\n",
    "\n",
    "X_train_200 = X_train[:200]\n",
    "Y_train_200 = Y_train[:200]\n",
    "\n",
    "X_train_300 = X_train[:300]\n",
    "Y_train_300 = Y_train[:300]\n"
   ]
  },
  {
   "cell_type": "code",
   "execution_count": 22,
   "metadata": {
    "collapsed": false
   },
   "outputs": [
    {
     "name": "stdout",
     "output_type": "stream",
     "text": [
      "Training a KNeighborsClassifier using a training set size of 100. . .\n",
      "Trained model in 0.0053 seconds\n",
      "Made predictions in 0.0028 seconds.\n",
      "F1 score for training set: 0.8857.\n",
      "Made predictions in 0.0019 seconds.\n",
      "F1 score for test set: 0.8588.\n",
      "/n\n",
      "Training a KNeighborsClassifier using a training set size of 200. . .\n",
      "Trained model in 0.0005 seconds\n",
      "Made predictions in 0.0019 seconds.\n",
      "F1 score for training set: 0.9200.\n",
      "Made predictions in 0.0022 seconds.\n",
      "F1 score for test set: 0.8927.\n",
      "/n\n",
      "Training a KNeighborsClassifier using a training set size of 300. . .\n",
      "Trained model in 0.0005 seconds\n",
      "Made predictions in 0.0025 seconds.\n",
      "F1 score for training set: 0.9264.\n",
      "Made predictions in 0.0023 seconds.\n",
      "F1 score for test set: 0.9081.\n",
      "/n\n",
      "Training a DecisionTreeClassifier using a training set size of 100. . .\n",
      "Trained model in 0.0032 seconds\n",
      "Made predictions in 0.0003 seconds.\n",
      "F1 score for training set: 1.0000.\n",
      "Made predictions in 0.0001 seconds.\n",
      "F1 score for test set: 0.9153.\n",
      "/n\n",
      "Training a DecisionTreeClassifier using a training set size of 200. . .\n",
      "Trained model in 0.0020 seconds\n",
      "Made predictions in 0.0002 seconds.\n",
      "F1 score for training set: 1.0000.\n",
      "Made predictions in 0.0002 seconds.\n",
      "F1 score for test set: 0.8634.\n",
      "/n\n",
      "Training a DecisionTreeClassifier using a training set size of 300. . .\n",
      "Trained model in 0.0034 seconds\n",
      "Made predictions in 0.0002 seconds.\n",
      "F1 score for training set: 1.0000.\n",
      "Made predictions in 0.0001 seconds.\n",
      "F1 score for test set: 0.9239.\n",
      "/n\n",
      "Training a SVC using a training set size of 100. . .\n",
      "Trained model in 0.0034 seconds\n",
      "Made predictions in 0.0008 seconds.\n",
      "F1 score for training set: 1.0000.\n",
      "Made predictions in 0.0012 seconds.\n",
      "F1 score for test set: 0.0000.\n",
      "/n\n",
      "Training a SVC using a training set size of 200. . .\n",
      "Trained model in 0.0027 seconds\n",
      "Made predictions in 0.0021 seconds.\n",
      "F1 score for training set: 1.0000.\n",
      "Made predictions in 0.0027 seconds.\n",
      "F1 score for test set: 0.0000.\n",
      "/n\n",
      "Training a SVC using a training set size of 300. . .\n",
      "Trained model in 0.0056 seconds\n",
      "Made predictions in 0.0031 seconds.\n",
      "F1 score for training set: 1.0000.\n",
      "Made predictions in 0.0034 seconds.\n",
      "F1 score for test set: 0.0000.\n",
      "/n\n",
      "Training a GaussianNB using a training set size of 100. . .\n",
      "Trained model in 0.0008 seconds\n",
      "Made predictions in 0.0003 seconds.\n",
      "F1 score for training set: 0.8788.\n",
      "Made predictions in 0.0004 seconds.\n",
      "F1 score for test set: 0.9341.\n",
      "/n\n",
      "Training a GaussianNB using a training set size of 200. . .\n",
      "Trained model in 0.0007 seconds\n",
      "Made predictions in 0.0003 seconds.\n",
      "F1 score for training set: 0.9091.\n",
      "Made predictions in 0.0003 seconds.\n",
      "F1 score for test set: 0.9162.\n",
      "/n\n",
      "Training a GaussianNB using a training set size of 300. . .\n",
      "Trained model in 0.0007 seconds\n",
      "Made predictions in 0.0004 seconds.\n",
      "F1 score for training set: 0.9058.\n",
      "Made predictions in 0.0003 seconds.\n",
      "F1 score for test set: 0.9341.\n",
      "/n\n",
      "Training a RandomForestClassifier using a training set size of 100. . .\n",
      "Trained model in 0.0388 seconds\n",
      "Made predictions in 0.0060 seconds.\n",
      "F1 score for training set: 0.9859.\n",
      "Made predictions in 0.0057 seconds.\n",
      "F1 score for test set: 0.9326.\n",
      "/n\n",
      "Training a RandomForestClassifier using a training set size of 200. . .\n",
      "Trained model in 0.0382 seconds\n",
      "Made predictions in 0.0055 seconds.\n",
      "F1 score for training set: 0.9934.\n",
      "Made predictions in 0.0057 seconds.\n",
      "F1 score for test set: 0.9153.\n",
      "/n\n",
      "Training a RandomForestClassifier using a training set size of 300. . .\n"
     ]
    },
    {
     "name": "stderr",
     "output_type": "stream",
     "text": [
      "/anaconda/lib/python2.7/site-packages/ipykernel/__main__.py:7: DataConversionWarning: A column-vector y was passed when a 1d array was expected. Please change the shape of y to (n_samples, ), for example using ravel().\n",
      "//anaconda/lib/python2.7/site-packages/sklearn/utils/validation.py:526: DataConversionWarning: A column-vector y was passed when a 1d array was expected. Please change the shape of y to (n_samples, ), for example using ravel().\n",
      "  y = column_or_1d(y, warn=True)\n",
      "//anaconda/lib/python2.7/site-packages/sklearn/metrics/classification.py:1113: UndefinedMetricWarning: F-score is ill-defined and being set to 0.0 due to no predicted samples.\n",
      "  'precision', 'predicted', average, warn_for)\n",
      "/anaconda/lib/python2.7/site-packages/ipykernel/__main__.py:7: DataConversionWarning: A column-vector y was passed when a 1d array was expected. Please change the shape of y to (n_samples,), for example using ravel().\n"
     ]
    },
    {
     "name": "stdout",
     "output_type": "stream",
     "text": [
      "Trained model in 0.0775 seconds\n",
      "Made predictions in 0.0063 seconds.\n",
      "F1 score for training set: 0.9915.\n",
      "Made predictions in 0.0060 seconds.\n",
      "F1 score for test set: 0.9180.\n",
      "/n\n",
      "Training a AdaBoostClassifier using a training set size of 100. . .\n",
      "Trained model in 0.1402 seconds\n",
      "Made predictions in 0.0043 seconds.\n",
      "F1 score for training set: 1.0000.\n",
      "Made predictions in 0.0053 seconds.\n",
      "F1 score for test set: 0.9457.\n",
      "/n\n",
      "Training a AdaBoostClassifier using a training set size of 200. . .\n",
      "Trained model in 0.1561 seconds\n",
      "Made predictions in 0.0050 seconds.\n",
      "F1 score for training set: 1.0000.\n",
      "Made predictions in 0.0052 seconds.\n",
      "F1 score for test set: 0.9399.\n",
      "/n\n",
      "Training a AdaBoostClassifier using a training set size of 300. . .\n",
      "Trained model in 0.1625 seconds\n",
      "Made predictions in 0.0054 seconds.\n",
      "F1 score for training set: 1.0000.\n",
      "Made predictions in 0.0051 seconds.\n",
      "F1 score for test set: 0.9451.\n",
      "/n\n",
      "Training a QuadraticDiscriminantAnalysis using a training set size of 100. . .\n",
      "Trained model in 0.0107 seconds\n",
      "Made predictions in 0.0005 seconds.\n",
      "F1 score for training set: 0.9855.\n",
      "Made predictions in 0.0008 seconds.\n",
      "F1 score for test set: 0.8571.\n",
      "/n\n",
      "Training a QuadraticDiscriminantAnalysis using a training set size of 200. . .\n",
      "Trained model in 0.0016 seconds\n",
      "Made predictions in 0.0006 seconds.\n",
      "F1 score for training set: 0.9733.\n",
      "Made predictions in 0.0006 seconds.\n",
      "F1 score for test set: 0.9570.\n",
      "/n\n",
      "Training a QuadraticDiscriminantAnalysis using a training set size of 300. . .\n",
      "Trained model in 0.0013 seconds\n",
      "Made predictions in 0.0005 seconds.\n",
      "F1 score for training set: 0.9528.\n",
      "Made predictions in 0.0004 seconds.\n",
      "F1 score for test set: 0.9688.\n",
      "/n\n",
      "Training a MLPClassifier using a training set size of 100. . .\n",
      "Trained model in 0.0107 seconds\n",
      "Made predictions in 0.0003 seconds.\n",
      "F1 score for training set: 0.5075.\n",
      "Made predictions in 0.0007 seconds.\n",
      "F1 score for test set: 0.5138.\n",
      "/n\n",
      "Training a MLPClassifier using a training set size of 200. . .\n",
      "Trained model in 0.0072 seconds\n",
      "Made predictions in 0.0003 seconds.\n",
      "F1 score for training set: 0.5507.\n",
      "Made predictions in 0.0004 seconds.\n",
      "F1 score for test set: 0.5179.\n",
      "/n\n",
      "Training a MLPClassifier using a training set size of 300. . .\n",
      "Trained model in 0.0138 seconds\n",
      "Made predictions in 0.0006 seconds.\n",
      "F1 score for training set: 0.5646.\n",
      "Made predictions in 0.0004 seconds.\n",
      "F1 score for test set: 0.5179.\n",
      "/n\n"
     ]
    },
    {
     "name": "stderr",
     "output_type": "stream",
     "text": [
      "//anaconda/lib/python2.7/site-packages/sklearn/neural_network/multilayer_perceptron.py:904: DataConversionWarning: A column-vector y was passed when a 1d array was expected. Please change the shape of y to (n_samples, ), for example using ravel().\n",
      "  y = column_or_1d(y, warn=True)\n"
     ]
    }
   ],
   "source": [
    "for clf in [clf_A, clf_B, clf_C, clf_D, clf_E, clf_G, clf_H, clf_I]:\n",
    "    for size in [100, 200, 300]:\n",
    "        train_predict(clf, X_train[:size], Y_train[:size], X_test, Y_test)\n",
    "        print '/n'"
   ]
  },
  {
   "cell_type": "code",
   "execution_count": 25,
   "metadata": {
    "collapsed": true
   },
   "outputs": [],
   "source": [
    "from sklearn import grid_search, datasets\n",
    "from sklearn.metrics import make_scorer,f1_score\n",
    "from sklearn.grid_search import GridSearchCV"
   ]
  },
  {
   "cell_type": "code",
   "execution_count": null,
   "metadata": {
    "collapsed": true
   },
   "outputs": [],
   "source": [
    "QuadraticDiscriminantAnalysis(priors=None, reg_param=0.0,\n",
    "                              store_covariances=False, tol=0.0001)"
   ]
  },
  {
   "cell_type": "code",
   "execution_count": null,
   "metadata": {
    "collapsed": true
   },
   "outputs": [],
   "source": []
  }
 ],
 "metadata": {
  "anaconda-cloud": {},
  "kernelspec": {
   "display_name": "Python [conda root]",
   "language": "python",
   "name": "conda-root-py"
  },
  "language_info": {
   "codemirror_mode": {
    "name": "ipython",
    "version": 2
   },
   "file_extension": ".py",
   "mimetype": "text/x-python",
   "name": "python",
   "nbconvert_exporter": "python",
   "pygments_lexer": "ipython2",
   "version": "2.7.12"
  }
 },
 "nbformat": 4,
 "nbformat_minor": 1
}
